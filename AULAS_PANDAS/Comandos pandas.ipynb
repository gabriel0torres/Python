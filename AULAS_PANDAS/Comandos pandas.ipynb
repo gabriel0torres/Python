{
 "cells": [
  {
   "cell_type": "code",
   "execution_count": null,
   "metadata": {},
   "outputs": [],
   "source": [
    "#concatenando dois arquivos excel com os mesmos campos\n",
    "#vendas_geral_df = pd.concat([vendas_df,vendas_dez_df])\n",
    "\n",
    "#display(tbl_vendas.describe())\n",
    "\n",
    "# display(tbl_vendas.loc[1:5])\n",
    "\n",
    "#loc[linhas,colunas]\n",
    "\n",
    "#vendas_norteshopping = display(tbl_vendas.loc[tbl_vendas['ID Loja'] == 'Norte Shopping',['Data','ID Loja','Quantidade','Produto']])\n",
    "\n",
    "#adicionar uma nova coluna\n",
    "#tbl_vendas['Comissão'] = tbl_vendas['Valor Final'] * 0.05\n",
    "\n",
    "#criar uma coluna com o valor padrão\n",
    "#tbl_vendas.loc[:,'imposto'] = 0\n",
    "\n",
    "#juntar dois arquivos de excel\n",
    "#vendas_dezembro_df = pd.read_excel('Vendas - Dez.xlsx')\n",
    "#tbl_vendas = pd.concat([tbl_vendas,vendas_dezembro_df])\n",
    "\n",
    "#deletar colunas ou linhas\n",
    "#tbl_vendas = tbl_vendas.drop(\"imposto\", axis=1)\n",
    "\n",
    "#deletar linhas e colunas completamente vazias\n",
    "#tbl_vendas = tbl_vendas.dropna(how='all', axis=1)\n",
    "\n",
    "#deletar linhas que tem pelo menos 1 valor vazio\n",
    "#tbl_vendas = tbl_vendas.dropna()\n",
    "\n",
    "#preencher valores vazios\n",
    "    #preencher com a média da coluna\n",
    "    #tbl_vendas['Comissão'] = tbl_vendas['Comissão'].fillna(tbl_vendas['Comissão'].mean())\n",
    "\n",
    "    #preencher com o último valor\n",
    "    #tbl_vendas = tbl_vendas.ffill()\n",
    "\n",
    "#calcular indicadores\n",
    "    #value counts\n",
    "    #transacoes_loja = tbl_vendas['ID Loja'].value_counts()\n",
    "    \n",
    "    #group by\n",
    "    #faturamento_produto = tbl_vendas[['Produto','Valor Final']].groupby('Produto').sum()\n",
    "    \n",
    "\n",
    "\n",
    "#mesclar 2 dataframes\n",
    "#tbl_vendas = tbl_vendas.merge(gerentes_df)\n",
    "\n",
    "#arquivo = arquivo.dropna(subset=['cpf'])"
   ]
  }
 ],
 "metadata": {
  "kernelspec": {
   "display_name": "Python 3.10.8 64-bit (microsoft store)",
   "language": "python",
   "name": "python3"
  },
  "language_info": {
   "name": "python",
   "version": "3.10.8"
  },
  "orig_nbformat": 4,
  "vscode": {
   "interpreter": {
    "hash": "481ba9c45ffaf85625db427e563484d09a2df5bf0d56a9045b0fe14ca589dec9"
   }
  }
 },
 "nbformat": 4,
 "nbformat_minor": 2
}
